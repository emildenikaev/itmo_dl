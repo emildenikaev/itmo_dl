{
 "cells": [
  {
   "cell_type": "code",
   "execution_count": 5,
   "metadata": {},
   "outputs": [],
   "source": [
    "import pandas as pd\n",
    "import numpy as np\n",
    "import torch\n",
    "from sklearn.model_selection import train_test_split\n",
    "from sklearn.preprocessing import LabelEncoder\n",
    "from torch.utils.data import Dataset, DataLoader\n",
    "import torch.nn as nn\n",
    "import torch.optim as optim\n",
    "from torch.nn.utils.rnn import pad_sequence\n",
    "from torch.utils.tensorboard.writer import SummaryWriter\n",
    "import random"
   ]
  },
  {
   "cell_type": "markdown",
   "metadata": {},
   "source": [
    "Загрузка данных"
   ]
  },
  {
   "cell_type": "code",
   "execution_count": 6,
   "metadata": {},
   "outputs": [
    {
     "name": "stdout",
     "output_type": "stream",
     "text": [
      "                                              Review  Rating\n",
      "0  [nice, hotel, expensive, parking, got, good, d...       3\n",
      "1  [ok, nothing, special, charge, diamond, member...       1\n",
      "2  [nice, rooms, not, 4*, experience, hotel, mona...       2\n",
      "3  [unique,, great, stay,, wonderful, time, hotel...       4\n",
      "4  [great, stay, great, stay,, went, seahawk, gam...       4\n"
     ]
    }
   ],
   "source": [
    "random.seed(42)\n",
    "np.random.seed(42)\n",
    "torch.manual_seed(42)\n",
    "\n",
    "df = pd.read_csv('./content/tripadvisor_hotel_reviews.csv')\n",
    "\n",
    "df['Review'] = df['Review'].apply(lambda x: x.lower().split())\n",
    "\n",
    "label_encoder = LabelEncoder()\n",
    "df['Rating'] = label_encoder.fit_transform(df['Rating'])\n",
    "\n",
    "print(df.head())"
   ]
  },
  {
   "cell_type": "code",
   "execution_count": 7,
   "metadata": {},
   "outputs": [
    {
     "name": "stdout",
     "output_type": "stream",
     "text": [
      "Train size: 12294, Validation size: 4098, Test size: 4099\n"
     ]
    }
   ],
   "source": [
    "train_val_df, test_df = train_test_split(df, test_size=0.2, stratify=df['Rating'], random_state=42)\n",
    "train_df, val_df = train_test_split(train_val_df, test_size=0.25, stratify=train_val_df['Rating'], random_state=42)  # 0.25 * 0.8 = 0.2\n",
    "\n",
    "print(f\"Train size: {len(train_df)}, Validation size: {len(val_df)}, Test size: {len(test_df)}\")"
   ]
  },
  {
   "cell_type": "markdown",
   "metadata": {},
   "source": [
    "Создание Dataset и DataLoader"
   ]
  },
  {
   "cell_type": "code",
   "execution_count": 8,
   "metadata": {},
   "outputs": [],
   "source": [
    "class ReviewsDataset(Dataset):\n",
    "    def __init__(self, df, vocab=None):\n",
    "        self.reviews = df['Review'].tolist()\n",
    "        self.ratings = df['Rating'].tolist()\n",
    "        self.vocab = vocab or self.build_vocab(self.reviews)\n",
    "\n",
    "    def build_vocab(self, reviews):\n",
    "        unique_words = set(word for review in reviews for word in review)\n",
    "        word2idx = {word: idx+1 for idx, word in enumerate(unique_words)}\n",
    "        word2idx[\"<PAD>\"] = 0\n",
    "        return word2idx\n",
    "\n",
    "    def __len__(self):\n",
    "        return len(self.reviews)\n",
    "\n",
    "    def __getitem__(self, idx):\n",
    "        review = self.reviews[idx]\n",
    "        rating = self.ratings[idx]\n",
    "        encoded_review = [self.vocab.get(word, 0) for word in review]\n",
    "        return torch.tensor(encoded_review, dtype=torch.long), torch.tensor(rating, dtype=torch.long)\n",
    "\n",
    "train_dataset = ReviewsDataset(train_df)\n",
    "val_dataset = ReviewsDataset(val_df, vocab=train_dataset.vocab)\n",
    "test_dataset = ReviewsDataset(test_df, vocab=train_dataset.vocab)\n",
    "\n",
    "def collate_fn(batch):\n",
    "    reviews, ratings = zip(*batch)\n",
    "    reviews_padded = pad_sequence(reviews, batch_first=True, padding_value=0)\n",
    "    return reviews_padded, torch.tensor(ratings, dtype=torch.long)\n",
    "\n",
    "batch_size = 64  \n",
    "\n",
    "train_loader = DataLoader(train_dataset, batch_size=batch_size, shuffle=True, collate_fn=collate_fn)\n",
    "val_loader = DataLoader(val_dataset, batch_size=batch_size, shuffle=False, collate_fn=collate_fn)\n",
    "test_loader = DataLoader(test_dataset, batch_size=batch_size, shuffle=False, collate_fn=collate_fn)"
   ]
  },
  {
   "cell_type": "markdown",
   "metadata": {},
   "source": [
    "Реализация и обучение сверточной сети"
   ]
  },
  {
   "cell_type": "code",
   "execution_count": 11,
   "metadata": {},
   "outputs": [
    {
     "name": "stdout",
     "output_type": "stream",
     "text": [
      "Epoch 1/10, Training Loss: 1.2898850842461067\n",
      "Epoch 1/10, Validation Loss: 1.1950196926410381\n",
      "Epoch 2/10, Training Loss: 1.077924562241747\n",
      "Epoch 2/10, Validation Loss: 1.08942208473499\n",
      "Epoch 3/10, Training Loss: 0.86189955843545\n",
      "Epoch 3/10, Validation Loss: 1.0827121156912582\n",
      "Epoch 4/10, Training Loss: 0.6199055025305773\n",
      "Epoch 4/10, Validation Loss: 1.1670375145398653\n",
      "Epoch 5/10, Training Loss: 0.359051164258947\n",
      "Epoch 5/10, Validation Loss: 1.2661362061133752\n",
      "Epoch 6/10, Training Loss: 0.154506262681336\n",
      "Epoch 6/10, Validation Loss: 1.4065869679817786\n",
      "Epoch 7/10, Training Loss: 0.050540596719618906\n",
      "Epoch 7/10, Validation Loss: 1.5418601806347187\n",
      "Epoch 8/10, Training Loss: 0.017646517826562718\n",
      "Epoch 8/10, Validation Loss: 1.6599964857101441\n",
      "Epoch 9/10, Training Loss: 0.009581092749891195\n",
      "Epoch 9/10, Validation Loss: 1.7429276172931378\n",
      "Epoch 10/10, Training Loss: 0.00666111285696916\n",
      "Epoch 10/10, Validation Loss: 1.820356402030358\n"
     ]
    }
   ],
   "source": [
    "class TextCNN(nn.Module):\n",
    "    def __init__(self, vocab_size, embed_size, num_classes):\n",
    "        super(TextCNN, self).__init__()\n",
    "        self.embedding = nn.Embedding(vocab_size, embed_size, padding_idx=0)\n",
    "        self.conv1 = nn.Conv1d(embed_size, 128, kernel_size=5)\n",
    "        self.conv2 = nn.Conv1d(128, 64, kernel_size=5)\n",
    "        self.fc1 = nn.Linear(64, num_classes)\n",
    "\n",
    "    def forward(self, x):\n",
    "        x = self.embedding(x).permute(0, 2, 1)\n",
    "        x = torch.relu(self.conv1(x))\n",
    "        x = torch.relu(self.conv2(x))\n",
    "        x = x.max(dim=2)[0]\n",
    "        x = self.fc1(x)\n",
    "        return x\n",
    "\n",
    "vocab_size = len(train_dataset.vocab)\n",
    "embed_size = 100\n",
    "num_classes = len(label_encoder.classes_)\n",
    "\n",
    "text_cnn_model = TextCNN(vocab_size, embed_size, num_classes)\n",
    "\n",
    "def train(model, train_loader, val_loader, epochs=10):\n",
    "    criterion = nn.CrossEntropyLoss()\n",
    "    optimizer = optim.Adam(model.parameters(), lr=0.001)\n",
    "\n",
    "    for epoch in range(epochs):\n",
    "        model.train()\n",
    "        train_loss = 0\n",
    "        for reviews, ratings in train_loader:\n",
    "            optimizer.zero_grad()\n",
    "            outputs = model(reviews)\n",
    "            loss = criterion(outputs, ratings)\n",
    "            loss.backward()\n",
    "            optimizer.step()\n",
    "            train_loss += loss.item()\n",
    "\n",
    "        print(f'Epoch {epoch+1}/{epochs}, Training Loss: {train_loss/len(train_loader)}')\n",
    "\n",
    "        model.eval()\n",
    "        val_loss = 0\n",
    "        with torch.no_grad():\n",
    "            for reviews, ratings in val_loader:\n",
    "                outputs = model(reviews)\n",
    "                loss = criterion(outputs, ratings)\n",
    "                val_loss += loss.item()\n",
    "        print(f'Epoch {epoch+1}/{epochs}, Validation Loss: {val_loss/len(val_loader)}')\n",
    "\n",
    "train(text_cnn_model, train_loader, val_loader)\n"
   ]
  },
  {
   "cell_type": "markdown",
   "metadata": {},
   "source": [
    "Реализация и обучение рекуррентной сети"
   ]
  },
  {
   "cell_type": "code",
   "execution_count": 12,
   "metadata": {},
   "outputs": [
    {
     "name": "stdout",
     "output_type": "stream",
     "text": [
      "Epoch 1/10, Training Loss: 1.374961325541679\n",
      "Epoch 1/10, Validation Loss: 1.3658284425735474\n",
      "Epoch 2/10, Training Loss: 1.359618725554313\n",
      "Epoch 2/10, Validation Loss: 1.36868993135599\n",
      "Epoch 3/10, Training Loss: 1.3544477570242215\n",
      "Epoch 3/10, Validation Loss: 1.3640710463890662\n",
      "Epoch 4/10, Training Loss: 1.3545027180656868\n",
      "Epoch 4/10, Validation Loss: 1.364708819756141\n",
      "Epoch 5/10, Training Loss: 1.352204235724217\n",
      "Epoch 5/10, Validation Loss: 1.366088186777555\n",
      "Epoch 6/10, Training Loss: 1.348256594158825\n",
      "Epoch 6/10, Validation Loss: 1.3627037855295034\n",
      "Epoch 7/10, Training Loss: 1.3473729766094622\n",
      "Epoch 7/10, Validation Loss: 1.369931176992563\n",
      "Epoch 8/10, Training Loss: 1.3455671226422403\n",
      "Epoch 8/10, Validation Loss: 1.368179805462177\n",
      "Epoch 9/10, Training Loss: 1.344526857909761\n",
      "Epoch 9/10, Validation Loss: 1.3683237534302932\n",
      "Epoch 10/10, Training Loss: 1.3459024997572824\n",
      "Epoch 10/10, Validation Loss: 1.3668203592300414\n"
     ]
    }
   ],
   "source": [
    "class TextLSTM(nn.Module):\n",
    "    def __init__(self, vocab_size, embed_size, hidden_size, num_layers, num_classes):\n",
    "        super(TextLSTM, self).__init__()\n",
    "        self.embedding = nn.Embedding(vocab_size, embed_size, padding_idx=0)\n",
    "        self.lstm = nn.LSTM(embed_size, hidden_size, num_layers, batch_first=True, bidirectional=True)\n",
    "        self.fc = nn.Linear(hidden_size*2, num_classes)\n",
    "\n",
    "    def forward(self, x):\n",
    "        x = self.embedding(x)\n",
    "        x, _ = self.lstm(x)\n",
    "        x = self.fc(x[:, -1, :])\n",
    "        return x\n",
    "\n",
    "hidden_size = 128\n",
    "num_layers = 1\n",
    "\n",
    "text_lstm_model = TextLSTM(vocab_size, embed_size, hidden_size, num_layers, num_classes)\n",
    "\n",
    "train(text_lstm_model, train_loader, val_loader)"
   ]
  },
  {
   "cell_type": "code",
   "execution_count": 13,
   "metadata": {},
   "outputs": [],
   "source": [
    "def train_and_evaluate(model, train_loader, val_loader, epochs=10):\n",
    "    criterion = nn.CrossEntropyLoss()\n",
    "    optimizer = optim.Adam(model.parameters(), lr=0.001)\n",
    "\n",
    "    train_losses = []\n",
    "    val_losses = []\n",
    "    train_accuracies = []\n",
    "    val_accuracies = []\n",
    "\n",
    "    for epoch in range(epochs):\n",
    "        model.train()\n",
    "        train_loss = 0\n",
    "        correct = 0\n",
    "        for reviews, ratings in train_loader:\n",
    "            optimizer.zero_grad()\n",
    "            outputs = model(reviews)\n",
    "            loss = criterion(outputs, ratings)\n",
    "            loss.backward()\n",
    "            optimizer.step()\n",
    "\n",
    "            train_loss += loss.item()\n",
    "            preds = outputs.argmax(dim=1)\n",
    "            correct += (preds == ratings).sum().item()\n",
    "\n",
    "        train_losses.append(train_loss / len(train_loader))\n",
    "        train_accuracies.append(correct / len(train_loader.dataset))\n",
    "\n",
    "        model.eval()\n",
    "        val_loss = 0\n",
    "        correct = 0\n",
    "        with torch.no_grad():\n",
    "            for reviews, ratings in val_loader:\n",
    "                outputs = model(reviews)\n",
    "                loss = criterion(outputs, ratings)\n",
    "                val_loss += loss.item()\n",
    "                preds = outputs.argmax(dim=1)\n",
    "                correct += (preds == ratings).sum().item()\n",
    "\n",
    "        val_losses.append(val_loss / len(val_loader))\n",
    "        val_accuracies.append(correct / len(val_loader.dataset))\n",
    "\n",
    "        print(f'Epoch {epoch+1}/{epochs}, '\n",
    "              f'Train Loss: {train_losses[-1]:.4f}, Train Accuracy: {train_accuracies[-1]:.4f}, '\n",
    "              f'Val Loss: {val_losses[-1]:.4f}, Val Accuracy: {val_accuracies[-1]:.4f}')\n",
    "\n",
    "    return train_losses, val_losses, train_accuracies, val_accuracies"
   ]
  },
  {
   "cell_type": "markdown",
   "metadata": {},
   "source": [
    "Обучение моделей"
   ]
  },
  {
   "cell_type": "code",
   "execution_count": 14,
   "metadata": {},
   "outputs": [
    {
     "name": "stdout",
     "output_type": "stream",
     "text": [
      "Epoch 1/10, Train Loss: 0.0136, Train Accuracy: 0.9994, Val Loss: 2.2342, Val Accuracy: 0.5034\n",
      "Epoch 2/10, Train Loss: 0.0191, Train Accuracy: 0.9960, Val Loss: 2.2907, Val Accuracy: 0.5056\n",
      "Epoch 3/10, Train Loss: 0.0027, Train Accuracy: 1.0000, Val Loss: 2.3394, Val Accuracy: 0.5310\n",
      "Epoch 4/10, Train Loss: 0.0007, Train Accuracy: 1.0000, Val Loss: 2.3696, Val Accuracy: 0.5305\n",
      "Epoch 5/10, Train Loss: 0.0005, Train Accuracy: 1.0000, Val Loss: 2.3969, Val Accuracy: 0.5278\n",
      "Epoch 6/10, Train Loss: 0.0004, Train Accuracy: 1.0000, Val Loss: 2.4267, Val Accuracy: 0.5307\n",
      "Epoch 7/10, Train Loss: 0.0003, Train Accuracy: 1.0000, Val Loss: 2.4556, Val Accuracy: 0.5300\n",
      "Epoch 8/10, Train Loss: 0.0002, Train Accuracy: 1.0000, Val Loss: 2.4780, Val Accuracy: 0.5300\n",
      "Epoch 9/10, Train Loss: 0.0011, Train Accuracy: 0.9997, Val Loss: 2.5673, Val Accuracy: 0.5337\n",
      "Epoch 10/10, Train Loss: 0.1492, Train Accuracy: 0.9476, Val Loss: 2.8761, Val Accuracy: 0.4968\n",
      "Epoch 1/10, Train Loss: 1.3426, Train Accuracy: 0.4496, Val Loss: 1.3662, Val Accuracy: 0.4439\n",
      "Epoch 2/10, Train Loss: 1.3426, Train Accuracy: 0.4511, Val Loss: 1.3667, Val Accuracy: 0.4446\n",
      "Epoch 3/10, Train Loss: 1.3407, Train Accuracy: 0.4501, Val Loss: 1.3671, Val Accuracy: 0.4446\n",
      "Epoch 4/10, Train Loss: 1.3409, Train Accuracy: 0.4513, Val Loss: 1.3686, Val Accuracy: 0.4449\n",
      "Epoch 5/10, Train Loss: 1.3398, Train Accuracy: 0.4518, Val Loss: 1.3678, Val Accuracy: 0.4441\n",
      "Epoch 6/10, Train Loss: 1.3408, Train Accuracy: 0.4511, Val Loss: 1.3687, Val Accuracy: 0.4441\n",
      "Epoch 7/10, Train Loss: 1.3401, Train Accuracy: 0.4513, Val Loss: 1.3718, Val Accuracy: 0.4439\n",
      "Epoch 8/10, Train Loss: 1.3408, Train Accuracy: 0.4514, Val Loss: 1.3711, Val Accuracy: 0.4436\n",
      "Epoch 9/10, Train Loss: 1.3389, Train Accuracy: 0.4517, Val Loss: 1.3684, Val Accuracy: 0.4444\n",
      "Epoch 10/10, Train Loss: 1.3378, Train Accuracy: 0.4523, Val Loss: 1.3676, Val Accuracy: 0.4444\n"
     ]
    }
   ],
   "source": [
    "cnn_train_losses, cnn_val_losses, cnn_train_acc, cnn_val_acc = train_and_evaluate(text_cnn_model, train_loader, val_loader, epochs=10)\n",
    "\n",
    "lstm_train_losses, lstm_val_losses, lstm_train_acc, lstm_val_acc = train_and_evaluate(text_lstm_model, train_loader, val_loader, epochs=10)"
   ]
  },
  {
   "cell_type": "code",
   "execution_count": 15,
   "metadata": {},
   "outputs": [
    {
     "data": {
      "image/png": "[encoded data removed]",
      "text/plain": [
       "<Figure size 1200x500 with 2 Axes>"
      ]
     },
     "metadata": {},
     "output_type": "display_data"
    }
   ],
   "source": [
    "import matplotlib.pyplot as plt\n",
    "\n",
    "plt.figure(figsize=(12, 5))\n",
    "\n",
    "plt.subplot(1, 2, 1)\n",
    "plt.plot(cnn_train_losses, label='CNN Training Loss')\n",
    "plt.plot(cnn_val_losses, label='CNN Validation Loss')\n",
    "plt.plot(lstm_train_losses, label='LSTM Training Loss')\n",
    "plt.plot(lstm_val_losses, label='LSTM Validation Loss')\n",
    "plt.title('Loss Comparison')\n",
    "plt.xlabel('Epochs')\n",
    "plt.ylabel('Loss')\n",
    "plt.legend()\n",
    "\n",
    "plt.subplot(1, 2, 2)\n",
    "plt.plot(cnn_train_acc, label='CNN Training Accuracy')\n",
    "plt.plot(cnn_val_acc, label='CNN Validation Accuracy')\n",
    "plt.plot(lstm_train_acc, label='LSTM Training Accuracy')\n",
    "plt.plot(lstm_val_acc, label='LSTM Validation Accuracy')\n",
    "plt.title('Accuracy Comparison')\n",
    "plt.xlabel('Epochs')\n",
    "plt.ylabel('Accuracy')\n",
    "plt.legend()\n",
    "\n",
    "plt.show()\n"
   ]
  },
  {
   "cell_type": "code",
   "execution_count": 18,
   "metadata": {},
   "outputs": [
    {
     "name": "stdout",
     "output_type": "stream",
     "text": [
      "CNN:\n",
      "              precision    recall  f1-score   support\n",
      "\n",
      "           1       0.57      0.33      0.42       284\n",
      "           2       0.33      0.36      0.34       359\n",
      "           3       0.27      0.20      0.23       437\n",
      "           4       0.40      0.59      0.47      1208\n",
      "           5       0.71      0.56      0.62      1811\n",
      "\n",
      "    accuracy                           0.50      4099\n",
      "   macro avg       0.45      0.41      0.42      4099\n",
      "weighted avg       0.53      0.50      0.50      4099\n",
      "\n",
      "LSTM:\n",
      "              precision    recall  f1-score   support\n",
      "\n",
      "           1       0.33      0.00      0.01       284\n",
      "           2       0.18      0.01      0.01       359\n",
      "           3       0.43      0.01      0.01       437\n",
      "           4       0.39      0.01      0.02      1208\n",
      "           5       0.44      0.99      0.61      1811\n",
      "\n",
      "    accuracy                           0.44      4099\n",
      "   macro avg       0.36      0.20      0.13      4099\n",
      "weighted avg       0.40      0.44      0.28      4099\n",
      "\n"
     ]
    }
   ],
   "source": [
    "from sklearn.metrics import classification_report\n",
    "\n",
    "def evaluate_model(model, test_loader):\n",
    "    model.eval()\n",
    "    all_preds = []\n",
    "    all_labels = []\n",
    "\n",
    "    with torch.no_grad():\n",
    "        for reviews, ratings in test_loader:\n",
    "            outputs = model(reviews)\n",
    "\n",
    "\n",
    "            preds = outputs.argmax(dim=1)\n",
    "            all_preds.extend(preds.cpu().numpy())\n",
    "            all_labels.extend(ratings.cpu().numpy())\n",
    "\n",
    "    return all_labels, all_preds\n",
    "\n",
    "cnn_labels, cnn_preds = evaluate_model(text_cnn_model, test_loader)\n",
    "lstm_labels, lstm_preds = evaluate_model(text_lstm_model, test_loader)\n",
    "\n",
    "target_names = [str(cls) for cls in label_encoder.classes_]  \n",
    "\n",
    "print(\"CNN:\")\n",
    "print(classification_report(cnn_labels, cnn_preds, target_names=target_names))\n",
    "\n",
    "print(\"LSTM:\")\n",
    "print(classification_report(lstm_labels, lstm_preds, target_names=target_names))"
   ]
  },
  {
   "cell_type": "markdown",
   "metadata": {},
   "source": [
    "- CNN: Модель CNN показала точность 50%. Хотя это не очень высокий результат, он лучше, чем случайное угадывание для многоклассовой задачи с пятью классами\n",
    "- LSTM: Модель LSTM показала еще более низкую точность — 44%, что свидетельствует о более низкой эффективности по сравнению с CNN"
   ]
  }
 ],
 "metadata": {
  "kernelspec": {
   "display_name": ".venv",
   "language": "python",
   "name": "python3"
  },
  "language_info": {
   "codemirror_mode": {
    "name": "ipython",
    "version": 3
   },
   "file_extension": ".py",
   "mimetype": "text/x-python",
   "name": "python",
   "nbconvert_exporter": "python",
   "pygments_lexer": "ipython3",
   "version": "3.12.2"
  }
 },
 "nbformat": 4,
 "nbformat_minor": 2
}
